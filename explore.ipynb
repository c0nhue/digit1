{
 "cells": [
  {
   "cell_type": "markdown",
   "id": "916c9d74",
   "metadata": {},
   "source": [
    "# Explore the data step by step and preprocess it to be used in a Convolutional Neural Network"
   ]
  },
  {
   "cell_type": "code",
   "execution_count": 6,
   "id": "d1e97df1",
   "metadata": {},
   "outputs": [],
   "source": [
    "import numpy as np\n",
    "from tensorflow import keras\n",
    "from tensorflow.keras.utils import to_categorical"
   ]
  },
  {
   "cell_type": "code",
   "execution_count": 13,
   "id": "2eb6463a",
   "metadata": {},
   "outputs": [
    {
     "name": "stdout",
     "output_type": "stream",
     "text": [
      "Loading MNIST dataset...\n",
      "MNIST loaded successfully\n"
     ]
    }
   ],
   "source": [
    "print(\"Loading MNIST dataset...\")\n",
    "(X_train, y_train), (X_test, y_test) = keras.datasets.mnist.load_data()\n",
    "print(\"MNIST loaded successfully\")"
   ]
  },
  {
   "cell_type": "code",
   "execution_count": 8,
   "id": "4754ffa1",
   "metadata": {},
   "outputs": [
    {
     "name": "stdout",
     "output_type": "stream",
     "text": [
      "Training data shape: (60000, 28, 28)\n",
      "Test data shape: (10000, 28, 28)\n"
     ]
    }
   ],
   "source": [
    "print(f\"Training data shape: {X_train.shape}\")\n",
    "print(f\"Test data shape: {X_test.shape}\")"
   ]
  },
  {
   "cell_type": "markdown",
   "id": "5f7c9371",
   "metadata": {},
   "source": [
    "Normalise pixel values. This will make all values be in range [0,1] rather than [0,255]. This is done to make the CNN faster, more stable and more accurate."
   ]
  },
  {
   "cell_type": "code",
   "execution_count": 9,
   "id": "17f5ed3d",
   "metadata": {},
   "outputs": [],
   "source": [
    "X_train = X_train.astype(\"float32\") / 255.0\n",
    "X_test = X_test.astype(\"float32\") / 255.0"
   ]
  },
  {
   "cell_type": "markdown",
   "id": "388973be",
   "metadata": {},
   "source": [
    "Reshape the data for CNN input. Now, the shape is in form (batch_size, height, width). A CNN needs shape (batch_size, height, width, channels).\n",
    "- batch_size - number of images in batch (60000 in MNIST)\n",
    "- channels - number of color channels: 1 for grayscale, 3 for RGB (we have grayscale)\n"
   ]
  },
  {
   "cell_type": "code",
   "execution_count": 10,
   "id": "f3342a88",
   "metadata": {},
   "outputs": [
    {
     "name": "stdout",
     "output_type": "stream",
     "text": [
      "Training data shape: (60000, 28, 28, 1)\n",
      "Test data shape: (10000, 28, 28, 1)\n"
     ]
    }
   ],
   "source": [
    "X_train = X_train.reshape(-1, 28, 28, 1) # using -1 automatically infers batch size\n",
    "X_test = X_test.reshape(-1, 28, 28, 1)\n",
    "print(f\"Training data shape: {X_train.shape}\")\n",
    "print(f\"Test data shape: {X_test.shape}\")"
   ]
  },
  {
   "cell_type": "markdown",
   "id": "15df31b8",
   "metadata": {},
   "source": [
    "The MNIST labels are integers from ```0``` to ```9```. We use one-hot encoding to convert each integer into a vector where the correct class is ```1``` and the otehrs are ```0```.\n",
    "We use ```.astype(\"float32)``` for sevral reasons: firstly, layers in our CNN require float inputs, not integers; secondly, for precisiopj and efiiciency"
   ]
  },
  {
   "cell_type": "code",
   "execution_count": 14,
   "id": "8fd11b63",
   "metadata": {},
   "outputs": [
    {
     "name": "stdout",
     "output_type": "stream",
     "text": [
      "Training data shape before: (60000,)\n",
      "Test data shape before: (10000,)\n",
      "Training data shape after: (60000, 10)\n",
      "Test data shape after: (10000, 10)\n"
     ]
    }
   ],
   "source": [
    "num_classes = 10\n",
    "print(f\"Training data shape before: {y_train.shape}\")\n",
    "print(f\"Test data shape before: {y_test.shape}\")\n",
    "y_train = to_categorical(y_train, num_classes).astype(\"float32\")\n",
    "y_test = to_categorical(y_test, num_classes).astype(\"float32\")\n",
    "print(f\"Training data shape after: {y_train.shape}\")\n",
    "print(f\"Test data shape after: {y_test.shape}\")"
   ]
  }
 ],
 "metadata": {
  "kernelspec": {
   "display_name": "tf-macos",
   "language": "python",
   "name": "python3"
  },
  "language_info": {
   "codemirror_mode": {
    "name": "ipython",
    "version": 3
   },
   "file_extension": ".py",
   "mimetype": "text/x-python",
   "name": "python",
   "nbconvert_exporter": "python",
   "pygments_lexer": "ipython3",
   "version": "3.11.13"
  }
 },
 "nbformat": 4,
 "nbformat_minor": 5
}
